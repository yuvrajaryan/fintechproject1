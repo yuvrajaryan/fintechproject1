{
 "cells": [
  {
   "cell_type": "code",
   "execution_count": 1,
   "id": "3009c38b",
   "metadata": {},
   "outputs": [],
   "source": [
    "import pandas as pd\n",
    "import warnings\n",
    "warnings.filterwarnings('ignore')\n",
    "df = pd.read_csv('NVDA.csv', parse_dates=['Date'], index_col='Date')\n",
    "df=df.dropna()"
   ]
  },
  {
   "cell_type": "code",
   "execution_count": 2,
   "id": "27b7bd0e",
   "metadata": {},
   "outputs": [
    {
     "name": "stdout",
     "output_type": "stream",
     "text": [
      "ADF Statistic: -1.1961176863658463\n",
      "p-value: 0.6752635514812695\n"
     ]
    }
   ],
   "source": [
    "import pandas as pd\n",
    "import numpy as np\n",
    "import matplotlib.pyplot as plt\n",
    "from statsmodels.tsa.arima.model import ARIMA\n",
    "from statsmodels.tsa.stattools import adfuller\n",
    "from statsmodels.graphics.tsaplots import plot_acf, plot_pacf\n",
    "df = df[['Close']]\n",
    "result = adfuller(df['Close'])\n",
    "print('ADF Statistic:', result[0])\n",
    "print('p-value:', result[1])"
   ]
  },
  {
   "cell_type": "code",
   "execution_count": 3,
   "id": "4719070a",
   "metadata": {},
   "outputs": [
    {
     "name": "stdout",
     "output_type": "stream",
     "text": [
      " ARIMA(0,1,0)(0,0,0)[1] intercept   : AIC=1849.495, Time=0.02 sec\n",
      " ARIMA(0,1,1)(0,0,0)[1] intercept   : AIC=1851.470, Time=0.03 sec\n",
      " ARIMA(0,1,2)(0,0,0)[1] intercept   : AIC=1853.337, Time=0.05 sec\n",
      " ARIMA(0,1,3)(0,0,0)[1] intercept   : AIC=1853.470, Time=0.10 sec\n",
      " ARIMA(0,1,4)(0,0,0)[1] intercept   : AIC=1855.407, Time=0.14 sec\n",
      " ARIMA(0,1,5)(0,0,0)[1] intercept   : AIC=1855.943, Time=0.14 sec\n",
      " ARIMA(1,1,0)(0,0,0)[1] intercept   : AIC=1851.472, Time=0.03 sec\n",
      " ARIMA(1,1,1)(0,0,0)[1] intercept   : AIC=1852.937, Time=0.17 sec\n",
      " ARIMA(1,1,2)(0,0,0)[1] intercept   : AIC=1854.628, Time=0.16 sec\n",
      " ARIMA(1,1,3)(0,0,0)[1] intercept   : AIC=1855.449, Time=0.19 sec\n",
      " ARIMA(1,1,4)(0,0,0)[1] intercept   : AIC=1855.205, Time=0.27 sec\n",
      " ARIMA(2,1,0)(0,0,0)[1] intercept   : AIC=1853.327, Time=0.05 sec\n",
      " ARIMA(2,1,1)(0,0,0)[1] intercept   : AIC=1854.620, Time=0.23 sec\n",
      " ARIMA(2,1,2)(0,0,0)[1] intercept   : AIC=1855.456, Time=0.23 sec\n",
      " ARIMA(2,1,3)(0,0,0)[1] intercept   : AIC=1856.636, Time=0.25 sec\n",
      " ARIMA(3,1,0)(0,0,0)[1] intercept   : AIC=1853.529, Time=0.07 sec\n",
      " ARIMA(3,1,1)(0,0,0)[1] intercept   : AIC=1855.505, Time=0.16 sec\n",
      " ARIMA(3,1,2)(0,0,0)[1] intercept   : AIC=1856.674, Time=0.24 sec\n",
      " ARIMA(4,1,0)(0,0,0)[1] intercept   : AIC=1855.459, Time=0.13 sec\n",
      " ARIMA(4,1,1)(0,0,0)[1] intercept   : AIC=1855.104, Time=0.23 sec\n",
      " ARIMA(5,1,0)(0,0,0)[1] intercept   : AIC=1855.789, Time=0.16 sec\n",
      "\n",
      "Best model:  ARIMA(0,1,0)(0,0,0)[1] intercept\n",
      "Total fit time: 3.069 seconds\n",
      "Best ARIMA Order (p, d, q): (0, 1, 0)\n"
     ]
    }
   ],
   "source": [
    "import pmdarima as pm\n",
    "import pandas as pd\n",
    "model = pm.auto_arima(df['Close'], seasonal=True, stepwise=False, trace=True)\n",
    "print(\"Best ARIMA Order (p, d, q):\", model.order)"
   ]
  },
  {
   "cell_type": "code",
   "execution_count": 4,
   "id": "73c37adc",
   "metadata": {},
   "outputs": [
    {
     "name": "stderr",
     "output_type": "stream",
     "text": [
      "C:\\Users\\65907\\anaconda3\\lib\\site-packages\\statsmodels\\tsa\\base\\tsa_model.py:471: ValueWarning: A date index has been provided, but it has no associated frequency information and so will be ignored when e.g. forecasting.\n",
      "  self._init_dates(dates, freq)\n",
      "C:\\Users\\65907\\anaconda3\\lib\\site-packages\\statsmodels\\tsa\\base\\tsa_model.py:471: ValueWarning: A date index has been provided, but it has no associated frequency information and so will be ignored when e.g. forecasting.\n",
      "  self._init_dates(dates, freq)\n",
      "C:\\Users\\65907\\anaconda3\\lib\\site-packages\\statsmodels\\tsa\\base\\tsa_model.py:471: ValueWarning: A date index has been provided, but it has no associated frequency information and so will be ignored when e.g. forecasting.\n",
      "  self._init_dates(dates, freq)\n"
     ]
    }
   ],
   "source": [
    "model = ARIMA(df['Close'], order= (0,1,0), trend =  \"t\")\n",
    "results = model.fit()\n"
   ]
  },
  {
   "cell_type": "code",
   "execution_count": 5,
   "id": "ad0950a3",
   "metadata": {},
   "outputs": [
    {
     "name": "stdout",
     "output_type": "stream",
     "text": [
      "251    415.026830\n",
      "252    416.183665\n",
      "253    417.340500\n",
      "254    418.497335\n",
      "255    419.654170\n",
      "256    420.811005\n",
      "257    421.967840\n",
      "258    423.124675\n",
      "259    424.281510\n",
      "260    425.438345\n",
      "Name: predicted_mean, dtype: float64\n"
     ]
    },
    {
     "name": "stderr",
     "output_type": "stream",
     "text": [
      "C:\\Users\\65907\\anaconda3\\lib\\site-packages\\statsmodels\\tsa\\base\\tsa_model.py:834: ValueWarning: No supported index is available. Prediction results will be given with an integer index beginning at `start`.\n",
      "  return get_prediction_index(\n"
     ]
    }
   ],
   "source": [
    "forecast_steps = 10  \n",
    "forecast = results.forecast(steps=forecast_steps)\n",
    "print(forecast)"
   ]
  },
  {
   "cell_type": "code",
   "execution_count": 6,
   "id": "96307eca",
   "metadata": {},
   "outputs": [],
   "source": [
    "forecast.to_csv('predictionsarima.csv', index=False)"
   ]
  }
 ],
 "metadata": {
  "kernelspec": {
   "display_name": "Python 3 (ipykernel)",
   "language": "python",
   "name": "python3"
  },
  "language_info": {
   "codemirror_mode": {
    "name": "ipython",
    "version": 3
   },
   "file_extension": ".py",
   "mimetype": "text/x-python",
   "name": "python",
   "nbconvert_exporter": "python",
   "pygments_lexer": "ipython3",
   "version": "3.10.9"
  }
 },
 "nbformat": 4,
 "nbformat_minor": 5
}
